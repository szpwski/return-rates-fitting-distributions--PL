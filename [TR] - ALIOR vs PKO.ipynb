{
 "cells": [
  {
   "cell_type": "code",
   "execution_count": 1,
   "metadata": {},
   "outputs": [],
   "source": [
    "#data\n",
    "import pandas as pd\n",
    "import numpy as np\n",
    "import math\n",
    "from datetime import datetime\n",
    "#ustawienie dat na polskie\n",
    "import locale\n",
    "locale.setlocale(locale.LC_TIME, 'pl_PL.utf8')\n",
    "#dopasowanie rozkładu\n",
    "import scipy\n",
    "from sklearn.preprocessing import StandardScaler\n",
    "import scipy.stats\n",
    "#wizualizacja\n",
    "from matplotlib import pyplot as plt\n",
    "import matplotlib.ticker as mticker\n",
    "import seaborn as sns\n",
    "%matplotlib inline\n",
    "import warnings\n",
    "warnings.filterwarnings('ignore')"
   ]
  },
  {
   "cell_type": "markdown",
   "metadata": {},
   "source": [
    "# ALIOR BANK S.A."
   ]
  },
  {
   "cell_type": "code",
   "execution_count": 2,
   "metadata": {},
   "outputs": [],
   "source": [
    "alior = pd.read_csv(\"alior.csv\", delimiter=\";\") #wczytanie danych"
   ]
  },
  {
   "cell_type": "code",
   "execution_count": 3,
   "metadata": {},
   "outputs": [
    {
     "data": {
      "text/html": [
       "<div>\n",
       "<style scoped>\n",
       "    .dataframe tbody tr th:only-of-type {\n",
       "        vertical-align: middle;\n",
       "    }\n",
       "\n",
       "    .dataframe tbody tr th {\n",
       "        vertical-align: top;\n",
       "    }\n",
       "\n",
       "    .dataframe thead th {\n",
       "        text-align: right;\n",
       "    }\n",
       "</style>\n",
       "<table border=\"1\" class=\"dataframe\">\n",
       "  <thead>\n",
       "    <tr style=\"text-align: right;\">\n",
       "      <th></th>\n",
       "      <th>Data</th>\n",
       "      <th>Otwarcie</th>\n",
       "      <th>Zamkniecie</th>\n",
       "    </tr>\n",
       "  </thead>\n",
       "  <tbody>\n",
       "    <tr>\n",
       "      <th>0</th>\n",
       "      <td>30.11.2015</td>\n",
       "      <td>65.89</td>\n",
       "      <td>59.63</td>\n",
       "    </tr>\n",
       "    <tr>\n",
       "      <th>1</th>\n",
       "      <td>31.12.2015</td>\n",
       "      <td>59.98</td>\n",
       "      <td>54.23</td>\n",
       "    </tr>\n",
       "    <tr>\n",
       "      <th>2</th>\n",
       "      <td>31.01.2016</td>\n",
       "      <td>54.14</td>\n",
       "      <td>49.09</td>\n",
       "    </tr>\n",
       "    <tr>\n",
       "      <th>3</th>\n",
       "      <td>29.02.2016</td>\n",
       "      <td>49.21</td>\n",
       "      <td>48.82</td>\n",
       "    </tr>\n",
       "    <tr>\n",
       "      <th>4</th>\n",
       "      <td>31.03.2016</td>\n",
       "      <td>48.84</td>\n",
       "      <td>52.97</td>\n",
       "    </tr>\n",
       "  </tbody>\n",
       "</table>\n",
       "</div>"
      ],
      "text/plain": [
       "         Data  Otwarcie  Zamkniecie\n",
       "0  30.11.2015     65.89       59.63\n",
       "1  31.12.2015     59.98       54.23\n",
       "2  31.01.2016     54.14       49.09\n",
       "3  29.02.2016     49.21       48.82\n",
       "4  31.03.2016     48.84       52.97"
      ]
     },
     "execution_count": 3,
     "metadata": {},
     "output_type": "execute_result"
    }
   ],
   "source": [
    "alior.head() #pierwsze wiersze"
   ]
  },
  {
   "cell_type": "code",
   "execution_count": 4,
   "metadata": {},
   "outputs": [
    {
     "name": "stdout",
     "output_type": "stream",
     "text": [
      "<class 'pandas.core.frame.DataFrame'>\n",
      "RangeIndex: 60 entries, 0 to 59\n",
      "Data columns (total 3 columns):\n",
      " #   Column      Non-Null Count  Dtype  \n",
      "---  ------      --------------  -----  \n",
      " 0   Data        60 non-null     object \n",
      " 1   Otwarcie    60 non-null     float64\n",
      " 2   Zamkniecie  60 non-null     float64\n",
      "dtypes: float64(2), object(1)\n",
      "memory usage: 1.5+ KB\n"
     ]
    }
   ],
   "source": [
    "alior.info() #rodzaje kolumn, ilosc kolumn, informacje"
   ]
  },
  {
   "cell_type": "code",
   "execution_count": 5,
   "metadata": {},
   "outputs": [
    {
     "data": {
      "text/html": [
       "<div>\n",
       "<style scoped>\n",
       "    .dataframe tbody tr th:only-of-type {\n",
       "        vertical-align: middle;\n",
       "    }\n",
       "\n",
       "    .dataframe tbody tr th {\n",
       "        vertical-align: top;\n",
       "    }\n",
       "\n",
       "    .dataframe thead th {\n",
       "        text-align: right;\n",
       "    }\n",
       "</style>\n",
       "<table border=\"1\" class=\"dataframe\">\n",
       "  <thead>\n",
       "    <tr style=\"text-align: right;\">\n",
       "      <th></th>\n",
       "      <th>Otwarcie</th>\n",
       "      <th>Zamkniecie</th>\n",
       "    </tr>\n",
       "  </thead>\n",
       "  <tbody>\n",
       "    <tr>\n",
       "      <th>count</th>\n",
       "      <td>60.000000</td>\n",
       "      <td>60.0000</td>\n",
       "    </tr>\n",
       "    <tr>\n",
       "      <th>mean</th>\n",
       "      <td>52.237167</td>\n",
       "      <td>51.2125</td>\n",
       "    </tr>\n",
       "    <tr>\n",
       "      <th>std</th>\n",
       "      <td>19.347939</td>\n",
       "      <td>19.9710</td>\n",
       "    </tr>\n",
       "    <tr>\n",
       "      <th>min</th>\n",
       "      <td>12.780000</td>\n",
       "      <td>12.8600</td>\n",
       "    </tr>\n",
       "    <tr>\n",
       "      <th>25%</th>\n",
       "      <td>46.102500</td>\n",
       "      <td>43.5875</td>\n",
       "    </tr>\n",
       "    <tr>\n",
       "      <th>50%</th>\n",
       "      <td>54.960000</td>\n",
       "      <td>54.2100</td>\n",
       "    </tr>\n",
       "    <tr>\n",
       "      <th>75%</th>\n",
       "      <td>66.117500</td>\n",
       "      <td>66.2250</td>\n",
       "    </tr>\n",
       "    <tr>\n",
       "      <th>max</th>\n",
       "      <td>85.750000</td>\n",
       "      <td>85.5000</td>\n",
       "    </tr>\n",
       "  </tbody>\n",
       "</table>\n",
       "</div>"
      ],
      "text/plain": [
       "        Otwarcie  Zamkniecie\n",
       "count  60.000000     60.0000\n",
       "mean   52.237167     51.2125\n",
       "std    19.347939     19.9710\n",
       "min    12.780000     12.8600\n",
       "25%    46.102500     43.5875\n",
       "50%    54.960000     54.2100\n",
       "75%    66.117500     66.2250\n",
       "max    85.750000     85.5000"
      ]
     },
     "execution_count": 5,
     "metadata": {},
     "output_type": "execute_result"
    }
   ],
   "source": [
    "alior.describe() #podstawowe statystyki opisowe "
   ]
  },
  {
   "cell_type": "code",
   "execution_count": 6,
   "metadata": {},
   "outputs": [
    {
     "data": {
      "text/html": [
       "<div>\n",
       "<style scoped>\n",
       "    .dataframe tbody tr th:only-of-type {\n",
       "        vertical-align: middle;\n",
       "    }\n",
       "\n",
       "    .dataframe tbody tr th {\n",
       "        vertical-align: top;\n",
       "    }\n",
       "\n",
       "    .dataframe thead th {\n",
       "        text-align: right;\n",
       "    }\n",
       "</style>\n",
       "<table border=\"1\" class=\"dataframe\">\n",
       "  <thead>\n",
       "    <tr style=\"text-align: right;\">\n",
       "      <th></th>\n",
       "      <th>Data</th>\n",
       "      <th>Otwarcie</th>\n",
       "      <th>Zamkniecie</th>\n",
       "      <th>L_Alior</th>\n",
       "    </tr>\n",
       "  </thead>\n",
       "  <tbody>\n",
       "    <tr>\n",
       "      <th>0</th>\n",
       "      <td>lis-2015</td>\n",
       "      <td>65.89</td>\n",
       "      <td>59.63</td>\n",
       "      <td>9.500683</td>\n",
       "    </tr>\n",
       "    <tr>\n",
       "      <th>1</th>\n",
       "      <td>gru-2015</td>\n",
       "      <td>59.98</td>\n",
       "      <td>54.23</td>\n",
       "      <td>9.586529</td>\n",
       "    </tr>\n",
       "    <tr>\n",
       "      <th>2</th>\n",
       "      <td>sty-2016</td>\n",
       "      <td>54.14</td>\n",
       "      <td>49.09</td>\n",
       "      <td>9.327669</td>\n",
       "    </tr>\n",
       "    <tr>\n",
       "      <th>3</th>\n",
       "      <td>lut-2016</td>\n",
       "      <td>49.21</td>\n",
       "      <td>48.82</td>\n",
       "      <td>0.792522</td>\n",
       "    </tr>\n",
       "    <tr>\n",
       "      <th>4</th>\n",
       "      <td>mar-2016</td>\n",
       "      <td>48.84</td>\n",
       "      <td>52.97</td>\n",
       "      <td>-8.456183</td>\n",
       "    </tr>\n",
       "  </tbody>\n",
       "</table>\n",
       "</div>"
      ],
      "text/plain": [
       "       Data  Otwarcie  Zamkniecie   L_Alior\n",
       "0  lis-2015     65.89       59.63  9.500683\n",
       "1  gru-2015     59.98       54.23  9.586529\n",
       "2  sty-2016     54.14       49.09  9.327669\n",
       "3  lut-2016     49.21       48.82  0.792522\n",
       "4  mar-2016     48.84       52.97 -8.456183"
      ]
     },
     "execution_count": 6,
     "metadata": {},
     "output_type": "execute_result"
    }
   ],
   "source": [
    "alior['L_Alior'] = (alior['Otwarcie']-alior['Zamkniecie'])/alior['Otwarcie']*100\n",
    "alior['Data'] = pd.to_datetime(alior['Data'])\n",
    "alior['Data'] = alior['Data'].apply(lambda x: datetime.strftime(x,'%b-%Y'))\n",
    "\n",
    "alior.head()"
   ]
  },
  {
   "cell_type": "code",
   "execution_count": 7,
   "metadata": {},
   "outputs": [
    {
     "data": {
      "text/html": [
       "<div>\n",
       "<style scoped>\n",
       "    .dataframe tbody tr th:only-of-type {\n",
       "        vertical-align: middle;\n",
       "    }\n",
       "\n",
       "    .dataframe tbody tr th {\n",
       "        vertical-align: top;\n",
       "    }\n",
       "\n",
       "    .dataframe thead th {\n",
       "        text-align: right;\n",
       "    }\n",
       "</style>\n",
       "<table border=\"1\" class=\"dataframe\">\n",
       "  <thead>\n",
       "    <tr style=\"text-align: right;\">\n",
       "      <th></th>\n",
       "      <th>L_Alior</th>\n",
       "    </tr>\n",
       "  </thead>\n",
       "  <tbody>\n",
       "    <tr>\n",
       "      <th>N</th>\n",
       "      <td>60.000000</td>\n",
       "    </tr>\n",
       "    <tr>\n",
       "      <th>Średnia</th>\n",
       "      <td>2.448261</td>\n",
       "    </tr>\n",
       "    <tr>\n",
       "      <th>Mediana</th>\n",
       "      <td>2.725046</td>\n",
       "    </tr>\n",
       "    <tr>\n",
       "      <th>Wariancja</th>\n",
       "      <td>107.364277</td>\n",
       "    </tr>\n",
       "    <tr>\n",
       "      <th>Odchylenie standardowe</th>\n",
       "      <td>10.361673</td>\n",
       "    </tr>\n",
       "    <tr>\n",
       "      <th>Skośność</th>\n",
       "      <td>0.883795</td>\n",
       "    </tr>\n",
       "    <tr>\n",
       "      <th>Kurtoza</th>\n",
       "      <td>3.323627</td>\n",
       "    </tr>\n",
       "  </tbody>\n",
       "</table>\n",
       "</div>"
      ],
      "text/plain": [
       "                           L_Alior\n",
       "N                        60.000000\n",
       "Średnia                   2.448261\n",
       "Mediana                   2.725046\n",
       "Wariancja               107.364277\n",
       "Odchylenie standardowe   10.361673\n",
       "Skośność                  0.883795\n",
       "Kurtoza                   3.323627"
      ]
     },
     "execution_count": 7,
     "metadata": {},
     "output_type": "execute_result"
    }
   ],
   "source": [
    "#momenty\n",
    "moments_alior = alior.agg({'L_Alior': ['count','mean','median','var','std','skew','kurtosis']}) \n",
    "alior_momenty = moments_alior.rename(index={'count':'N','mean':'Średnia','median':'Mediana','var':'Wariancja',\n",
    "                             'std':'Odchylenie standardowe','skew':'Skośność','kurtosis':'Kurtoza'}) #zmiana nazw wierszy\n",
    "alior_momenty"
   ]
  },
  {
   "cell_type": "code",
   "execution_count": 8,
   "metadata": {},
   "outputs": [
    {
     "data": {
      "text/plain": [
       "Index(['Data', 'Otwarcie', 'Zamkniecie', 'L_Alior'], dtype='object')"
      ]
     },
     "execution_count": 8,
     "metadata": {},
     "output_type": "execute_result"
    }
   ],
   "source": [
    "alior.columns #wyświetlenie nazw kolumn"
   ]
  },
  {
   "cell_type": "code",
   "execution_count": 9,
   "metadata": {},
   "outputs": [
    {
     "data": {
      "image/png": "[encoded data removed]",
      "text/plain": [
       "<Figure size 842.4x595.44 with 1 Axes>"
      ]
     },
     "metadata": {},
     "output_type": "display_data"
    }
   ],
   "source": [
    "sns.set_style(\"white\") #styl wykresu \n",
    "\n",
    "fig, ax = plt.subplots() #sposób na proste zwiększenie wykresu\n",
    "fig.set_size_inches(11.7, 8.27) #rozmiary kartki A4\n",
    "\n",
    "k = sns.lineplot(x=\"Data\", y=\"Zamkniecie\", data=alior, label=\"Alior\", linewidth = 3, color=\"Maroon\") #wykres liniowy\n",
    "sns.scatterplot(x=\"Data\", y=\"Zamkniecie\", data=alior,s=50, color=\"Maroon\") #zaznaczone punkty notowań\n",
    "\n",
    "plt.legend(fancybox=True, shadow=True,framealpha=1, prop={'size':15}) #dodanie legendy\n",
    "\n",
    "myLocator = mticker.IndexLocator( base = 3, offset = 0) #stworzenie lokalizatora, aby ustawić oś X co drugą date\n",
    "ax.xaxis.set_major_locator(myLocator) #uporządkowanie osi X\n",
    "\n",
    "k.yaxis.grid() #stworzenie horyzontalnych lin w tle wykresu\n",
    "\n",
    "plt.xticks(rotation=45, fontsize=12, color=\"black\") #spersonalizowanie wartości na osiach X,Y\n",
    "plt.yticks(fontsize=15)\n",
    "\n",
    "plt.title(\"Notowania (na zamknięciu) Alior Bank S.A. w latach 2015-2020\", fontsize=22,  fontweight='bold') #tytuł wykresu\n",
    "plt.ylabel(\"Wartość notowania (zł)\", fontsize=20, labelpad=20, fontweight='bold') #tytuł osi Y\n",
    "plt.xlabel(\"Data notowania\", labelpad=20, fontsize=20, fontweight='bold') #tytuł osi X\n",
    "\n",
    "plt.savefig('alior_notowania.jpg')\n",
    "\n",
    "plt.show() #wyświetlenie wykresu"
   ]
  },
  {
   "cell_type": "markdown",
   "metadata": {},
   "source": [
    "**Próba dopasowania rozkładu dla Alior Bank**\n",
    "* Potrzebujemy przeskalować dane do testu Kolmogorov-Smirnova\n",
    "* Zakłada on, że dane zostały standaryzowane (od wszystkich danych została odjęta średnia tak aby dane znajdowany się dookoła zera) oraz ze wyniki sa podzielone przez odchylenie standardowe (wiec wszystkie dane sa wyrazone jako numery odchylen standardowych ponizej lub powyzej sredniej).\n",
    "* Wartość > 0.05 oznacza ze dopasowany rozklad różni sie nieznacznie od zaobserwowanego rozkladu danych\n"
   ]
  },
  {
   "cell_type": "code",
   "execution_count": 10,
   "metadata": {},
   "outputs": [],
   "source": [
    "L_alior = alior['L_Alior']\n",
    "x = np.arange(len(L_alior))\n",
    "size = len(L_alior)"
   ]
  },
  {
   "cell_type": "code",
   "execution_count": 11,
   "metadata": {},
   "outputs": [
    {
     "data": {
      "text/plain": [
       "(60,)"
      ]
     },
     "execution_count": 11,
     "metadata": {},
     "output_type": "execute_result"
    }
   ],
   "source": [
    "L_alior.shape"
   ]
  },
  {
   "cell_type": "code",
   "execution_count": 12,
   "metadata": {},
   "outputs": [
    {
     "data": {
      "text/plain": [
       "1"
      ]
     },
     "execution_count": 12,
     "metadata": {},
     "output_type": "execute_result"
    }
   ],
   "source": [
    "L_alior.ndim"
   ]
  },
  {
   "cell_type": "code",
   "execution_count": 13,
   "metadata": {},
   "outputs": [],
   "source": [
    "#L_alior ma 1 wymiar, aby dopasować model rozkładu potrzebujemy 2 wymiarowego\n",
    "#Wykonamy standaryzacje danych uzywajac StandardScaler() z paczki 'sklearn'\n",
    "#Czyli proces przeskalowania atrybutów rozkładu, aby dane miały średnią 0 i wariancje 1\n",
    "sc = StandardScaler()\n",
    "reshaped_alior = L_alior.values.reshape(-1,1) #zmiana wymiaru L_alior\n",
    "sc.fit(reshaped_alior) #dopasowanie i standaryzacja danych do otrzymania średniej 0 i wariancji 1\n",
    "alior_std = sc.transform(reshaped_alior) #przerzucenie dopasowania do zbioru\n",
    "alior_std = alior_std.flatten() #powrot do 1 wymiarowego zbioru danych\n",
    "alior_std\n",
    "del reshaped_alior \n"
   ]
  },
  {
   "cell_type": "code",
   "execution_count": 14,
   "metadata": {},
   "outputs": [
    {
     "name": "stdout",
     "output_type": "stream",
     "text": [
      "\n",
      "Rozkłady po poprawności dopasowania:\n",
      "----------------------------------------\n",
      "  Distribution   chi_square  p_value\n",
      "0         burr     5.005029  0.79078\n",
      "4         norm    10.241429  0.22633\n",
      "2        gamma    10.394138  0.32741\n",
      "5      lognorm    10.468121  0.34849\n",
      "8  weibull_min    23.533210  0.17579\n",
      "7      uniform   198.196779  0.00000\n",
      "3    genpareto   407.394176  0.00057\n",
      "1        expon   684.020234  0.00000\n",
      "6       pareto   695.667978  0.00000\n",
      "9  weibull_max  1071.739829  0.00000\n"
     ]
    }
   ],
   "source": [
    "dist_names = ['burr',           #lista propozycji rozkładów\n",
    "              'expon',\n",
    "              'gamma',\n",
    "              'genpareto',\n",
    "              'norm',\n",
    "              'lognorm',\n",
    "              'pareto',\n",
    "              'uniform',\n",
    "              'weibull_min', \n",
    "              'weibull_max']\n",
    "#utworzenie pustych list do przechowywania wyników testu\n",
    "chi_square = []\n",
    "p_values = []\n",
    "\n",
    "#utworzenie 50 kolumn dla testu chi-kwadrat\n",
    "#dane beda równomiernie rozłożone na wszystkich kolumnach\n",
    "#percentyl = 1/100 kwantyl\n",
    "percentile_bins = np.linspace(0,100,51) #zwraca równomiernie rozłożone próbki \n",
    "percentile_cutoffs = np.percentile(alior_std, percentile_bins) #zwraca kolejne percentyle\n",
    "observed_frequency, bins = (np.histogram(alior_std, bins=percentile_cutoffs))\n",
    "cum_observed_frequency = np.cumsum(observed_frequency)\n",
    "\n",
    "#petla dla dla kazdego kandydata\n",
    "for distribution in dist_names:\n",
    "    #ustawienie rozkładu i otrzymanie dopasowanych parametrów rozkładu\n",
    "    dist = getattr(scipy.stats, distribution)\n",
    "    param = dist.fit(alior_std) #dopasowanie otrzymanych atrybutów do zbioru\n",
    "    \n",
    "    #otrzymanie 'p-value' dla testy Kolmogorov-Smirnoff, zaokraglenie do 5 miejsc\n",
    "    p = scipy.stats.kstest(alior_std, distribution, args=param)[1]\n",
    "    p = np.around(p,5)\n",
    "    p_values.append(p)\n",
    "    \n",
    "    #otrzymanie spodziewanej liczby w kolumnach percentyli\n",
    "    #oparte na dystrybuancie ('cumulative distribution function - cdf')\n",
    "    cdf_fitted = dist.cdf(percentile_cutoffs, *param[:-2], loc=param[-2], scale=param[-1])\n",
    "    expected_frequency = []\n",
    "    for bin in range(len(percentile_bins)-1):\n",
    "        expected_cdf_area = cdf_fitted[bin+1] - cdf_fitted[bin]\n",
    "        expected_frequency.append(expected_cdf_area)\n",
    "    \n",
    "    #obliczenie testu chi-kwadrat\n",
    "    expected_frequency = np.array(expected_frequency) * size\n",
    "    cum_expected_frequency = np.cumsum(expected_frequency)\n",
    "    ss = sum(((cum_expected_frequency - cum_observed_frequency)**2) / cum_observed_frequency)\n",
    "    chi_square.append(ss)\n",
    "    \n",
    "#Ulokowanie wyników i posortowanie po poprawności dopasowania (najlepsze z góry)\n",
    "results = pd.DataFrame()\n",
    "results['Distribution'] = dist_names\n",
    "results['chi_square'] = chi_square\n",
    "results['p_value'] = p_values\n",
    "results.sort_values(['chi_square'], inplace=True)\n",
    "\n",
    "#Wyświetlenie wyników\n",
    "print ('\\nRozkłady po poprawności dopasowania:')\n",
    "print ('----------------------------------------')\n",
    "print (results)\n",
    "    \n",
    "    "
   ]
  },
  {
   "cell_type": "markdown",
   "metadata": {},
   "source": [
    "Najlepsze dopasowanie otrzymaliśmy dla rozkładu Burra (Singha-Maddala, często stosowany do modelowania dochodu gospodarstwa domowego), Normalnego oraz Gamma.\n",
    "Wizualizujemy te rozkłady i zwrócimy parametry. \n",
    "Tym razem będziemy przeprowadzali dopasowanie do oryginalnych danych (nie zestandaryzowanych)"
   ]
  },
  {
   "cell_type": "code",
   "execution_count": 15,
   "metadata": {},
   "outputs": [
    {
     "data": {
      "image/png": "[encoded data removed]",
      "text/plain": [
       "<Figure size 432x288 with 1 Axes>"
      ]
     },
     "metadata": {},
     "output_type": "display_data"
    },
    {
     "name": "stdout",
     "output_type": "stream",
     "text": [
      "\n",
      "Parametry rozkładów:\n",
      "------------------------\n",
      "\n",
      "Rozkład: burr\n",
      "Parametry: (0.47479515032799835, 1.4234589134064777, -22.297449785601437, 1.251387889080998)\n",
      "\n",
      "Rozkład: norm\n",
      "Parametry: (2.448260634570837, 10.274963395531392)\n",
      "\n",
      "Rozkład: gamma\n",
      "Parametry: (29.405631209042873, -52.47983177503685, 1.8679448157602854)\n"
     ]
    }
   ],
   "source": [
    "#dzielimy obserwacje na 100 kolumn dla wizualizacji\n",
    "number_of_bins = 100\n",
    "bin_cutoffs = np.linspace(np.percentile(L_alior, 0), np.percentile(L_alior, 99), number_of_bins)\n",
    "\n",
    "#tworzymy wykres\n",
    "h = plt.hist(L_alior, bins=bin_cutoffs, color='0.75')\n",
    "\n",
    "#wybierzmy 3 najlepsze rozkłady\n",
    "number_distributions_to_plot = 3\n",
    "dist_names = results['Distribution'].iloc[0:number_distributions_to_plot]\n",
    "\n",
    "#tworzenie pustej listy do zwrócenia parametrów dopasowanych rozkładów\n",
    "parameters = []\n",
    "\n",
    "#petla po rozkładach aby otrzymać parametry i dopasować linie\n",
    "for dist_name in dist_names:\n",
    "    #wybierzemy rozkład i przechowamy parametry rozkładu\n",
    "    dist = getattr(scipy.stats,dist_name)\n",
    "    param = dist.fit(L_alior)\n",
    "    parameters.append(param)\n",
    "    \n",
    "    #narysowanie linii każdego rozkładu i przeskalowanie, aby dopasować do danych\n",
    "    pdf_fitted = dist.pdf(x, *param[:-2], loc=param[-2], scale=param[-1])\n",
    "    scale_pdf = np.trapz(h[0],h[1][:-1])/np.trapz(pdf_fitted,x)\n",
    "    pdf_fitted *= scale_pdf\n",
    "    \n",
    "    #dodanie linii to wykresu\n",
    "    plt.plot(pdf_fitted, label=dist_name)\n",
    "    \n",
    "    #ustawienie osi X aby zawierała 99% danych\n",
    "    #to nie jest obowiązkowe, ale czasami jakiś 'outlier' powoduje wykres mniej czytelnym\n",
    "    plt.xlim(0,np.percentile(L_alior,99))\n",
    "    \n",
    "#Dodanie legendy i wyświetlenie wykresu\n",
    "plt.legend()\n",
    "plt.show()\n",
    "\n",
    "#Przechowanie parametrów rozkładu w dataframe\n",
    "dist_parameters = pd.DataFrame()\n",
    "dist_parameters['Distribution'] = (\n",
    "        results['Distribution'].iloc[0:number_distributions_to_plot])\n",
    "dist_parameters['Distribution parameters'] = parameters\n",
    "\n",
    "#Wyświetlenie wyników parametrów\n",
    "print ('\\nParametry rozkładów:')\n",
    "print ('------------------------')\n",
    "\n",
    "for index, row in dist_parameters.iterrows():\n",
    "    print ('\\nRozkład:', row[0])\n",
    "    print ('Parametry:', row[1] )"
   ]
  },
  {
   "cell_type": "markdown",
   "metadata": {},
   "source": [
    "# PKO BANK POLSKI S.A."
   ]
  },
  {
   "cell_type": "code",
   "execution_count": 10,
   "metadata": {},
   "outputs": [],
   "source": [
    "pko = pd.read_csv(\"pko.csv\", delimiter=\";\") #wczytanie danych"
   ]
  },
  {
   "cell_type": "code",
   "execution_count": 11,
   "metadata": {},
   "outputs": [
    {
     "data": {
      "text/html": [
       "<div>\n",
       "<style scoped>\n",
       "    .dataframe tbody tr th:only-of-type {\n",
       "        vertical-align: middle;\n",
       "    }\n",
       "\n",
       "    .dataframe tbody tr th {\n",
       "        vertical-align: top;\n",
       "    }\n",
       "\n",
       "    .dataframe thead th {\n",
       "        text-align: right;\n",
       "    }\n",
       "</style>\n",
       "<table border=\"1\" class=\"dataframe\">\n",
       "  <thead>\n",
       "    <tr style=\"text-align: right;\">\n",
       "      <th></th>\n",
       "      <th>Data</th>\n",
       "      <th>Otwarcie</th>\n",
       "      <th>Zamkniecie</th>\n",
       "    </tr>\n",
       "  </thead>\n",
       "  <tbody>\n",
       "    <tr>\n",
       "      <th>0</th>\n",
       "      <td>30.11.2015</td>\n",
       "      <td>28.66</td>\n",
       "      <td>26.95</td>\n",
       "    </tr>\n",
       "    <tr>\n",
       "      <th>1</th>\n",
       "      <td>31.12.2015</td>\n",
       "      <td>26.92</td>\n",
       "      <td>27.33</td>\n",
       "    </tr>\n",
       "    <tr>\n",
       "      <th>2</th>\n",
       "      <td>31.01.2016</td>\n",
       "      <td>26.60</td>\n",
       "      <td>24.65</td>\n",
       "    </tr>\n",
       "    <tr>\n",
       "      <th>3</th>\n",
       "      <td>29.02.2016</td>\n",
       "      <td>24.68</td>\n",
       "      <td>24.43</td>\n",
       "    </tr>\n",
       "    <tr>\n",
       "      <th>4</th>\n",
       "      <td>31.03.2016</td>\n",
       "      <td>24.59</td>\n",
       "      <td>27.80</td>\n",
       "    </tr>\n",
       "  </tbody>\n",
       "</table>\n",
       "</div>"
      ],
      "text/plain": [
       "         Data  Otwarcie  Zamkniecie\n",
       "0  30.11.2015     28.66       26.95\n",
       "1  31.12.2015     26.92       27.33\n",
       "2  31.01.2016     26.60       24.65\n",
       "3  29.02.2016     24.68       24.43\n",
       "4  31.03.2016     24.59       27.80"
      ]
     },
     "execution_count": 11,
     "metadata": {},
     "output_type": "execute_result"
    }
   ],
   "source": [
    "pko.head() #pierwsze wiersze"
   ]
  },
  {
   "cell_type": "code",
   "execution_count": 12,
   "metadata": {},
   "outputs": [
    {
     "name": "stdout",
     "output_type": "stream",
     "text": [
      "<class 'pandas.core.frame.DataFrame'>\n",
      "RangeIndex: 60 entries, 0 to 59\n",
      "Data columns (total 3 columns):\n",
      " #   Column      Non-Null Count  Dtype  \n",
      "---  ------      --------------  -----  \n",
      " 0   Data        60 non-null     object \n",
      " 1   Otwarcie    60 non-null     float64\n",
      " 2   Zamkniecie  60 non-null     float64\n",
      "dtypes: float64(2), object(1)\n",
      "memory usage: 1.5+ KB\n"
     ]
    }
   ],
   "source": [
    "pko.info() #rodzaje kolumn, ilosc kolumn, informacje"
   ]
  },
  {
   "cell_type": "code",
   "execution_count": 13,
   "metadata": {},
   "outputs": [
    {
     "data": {
      "text/html": [
       "<div>\n",
       "<style scoped>\n",
       "    .dataframe tbody tr th:only-of-type {\n",
       "        vertical-align: middle;\n",
       "    }\n",
       "\n",
       "    .dataframe tbody tr th {\n",
       "        vertical-align: top;\n",
       "    }\n",
       "\n",
       "    .dataframe thead th {\n",
       "        text-align: right;\n",
       "    }\n",
       "</style>\n",
       "<table border=\"1\" class=\"dataframe\">\n",
       "  <thead>\n",
       "    <tr style=\"text-align: right;\">\n",
       "      <th></th>\n",
       "      <th>Otwarcie</th>\n",
       "      <th>Zamkniecie</th>\n",
       "    </tr>\n",
       "  </thead>\n",
       "  <tbody>\n",
       "    <tr>\n",
       "      <th>count</th>\n",
       "      <td>60.000000</td>\n",
       "      <td>60.000000</td>\n",
       "    </tr>\n",
       "    <tr>\n",
       "      <th>mean</th>\n",
       "      <td>33.421000</td>\n",
       "      <td>33.276833</td>\n",
       "    </tr>\n",
       "    <tr>\n",
       "      <th>std</th>\n",
       "      <td>7.419718</td>\n",
       "      <td>7.534088</td>\n",
       "    </tr>\n",
       "    <tr>\n",
       "      <th>min</th>\n",
       "      <td>21.070000</td>\n",
       "      <td>21.010000</td>\n",
       "    </tr>\n",
       "    <tr>\n",
       "      <th>25%</th>\n",
       "      <td>26.485000</td>\n",
       "      <td>25.972500</td>\n",
       "    </tr>\n",
       "    <tr>\n",
       "      <th>50%</th>\n",
       "      <td>35.450000</td>\n",
       "      <td>35.310000</td>\n",
       "    </tr>\n",
       "    <tr>\n",
       "      <th>75%</th>\n",
       "      <td>39.440000</td>\n",
       "      <td>39.357500</td>\n",
       "    </tr>\n",
       "    <tr>\n",
       "      <th>max</th>\n",
       "      <td>45.820000</td>\n",
       "      <td>45.660000</td>\n",
       "    </tr>\n",
       "  </tbody>\n",
       "</table>\n",
       "</div>"
      ],
      "text/plain": [
       "        Otwarcie  Zamkniecie\n",
       "count  60.000000   60.000000\n",
       "mean   33.421000   33.276833\n",
       "std     7.419718    7.534088\n",
       "min    21.070000   21.010000\n",
       "25%    26.485000   25.972500\n",
       "50%    35.450000   35.310000\n",
       "75%    39.440000   39.357500\n",
       "max    45.820000   45.660000"
      ]
     },
     "execution_count": 13,
     "metadata": {},
     "output_type": "execute_result"
    }
   ],
   "source": [
    "pko.describe() #podstawowe statystyki opisowe "
   ]
  },
  {
   "cell_type": "code",
   "execution_count": 14,
   "metadata": {},
   "outputs": [
    {
     "data": {
      "text/html": [
       "<div>\n",
       "<style scoped>\n",
       "    .dataframe tbody tr th:only-of-type {\n",
       "        vertical-align: middle;\n",
       "    }\n",
       "\n",
       "    .dataframe tbody tr th {\n",
       "        vertical-align: top;\n",
       "    }\n",
       "\n",
       "    .dataframe thead th {\n",
       "        text-align: right;\n",
       "    }\n",
       "</style>\n",
       "<table border=\"1\" class=\"dataframe\">\n",
       "  <thead>\n",
       "    <tr style=\"text-align: right;\">\n",
       "      <th></th>\n",
       "      <th>Data</th>\n",
       "      <th>Otwarcie</th>\n",
       "      <th>Zamkniecie</th>\n",
       "      <th>L_PKO</th>\n",
       "    </tr>\n",
       "  </thead>\n",
       "  <tbody>\n",
       "    <tr>\n",
       "      <th>0</th>\n",
       "      <td>lis-2015</td>\n",
       "      <td>28.66</td>\n",
       "      <td>26.95</td>\n",
       "      <td>5.966504</td>\n",
       "    </tr>\n",
       "    <tr>\n",
       "      <th>1</th>\n",
       "      <td>gru-2015</td>\n",
       "      <td>26.92</td>\n",
       "      <td>27.33</td>\n",
       "      <td>-1.523031</td>\n",
       "    </tr>\n",
       "    <tr>\n",
       "      <th>2</th>\n",
       "      <td>sty-2016</td>\n",
       "      <td>26.60</td>\n",
       "      <td>24.65</td>\n",
       "      <td>7.330827</td>\n",
       "    </tr>\n",
       "    <tr>\n",
       "      <th>3</th>\n",
       "      <td>lut-2016</td>\n",
       "      <td>24.68</td>\n",
       "      <td>24.43</td>\n",
       "      <td>1.012966</td>\n",
       "    </tr>\n",
       "    <tr>\n",
       "      <th>4</th>\n",
       "      <td>mar-2016</td>\n",
       "      <td>24.59</td>\n",
       "      <td>27.80</td>\n",
       "      <td>-13.054087</td>\n",
       "    </tr>\n",
       "  </tbody>\n",
       "</table>\n",
       "</div>"
      ],
      "text/plain": [
       "       Data  Otwarcie  Zamkniecie      L_PKO\n",
       "0  lis-2015     28.66       26.95   5.966504\n",
       "1  gru-2015     26.92       27.33  -1.523031\n",
       "2  sty-2016     26.60       24.65   7.330827\n",
       "3  lut-2016     24.68       24.43   1.012966\n",
       "4  mar-2016     24.59       27.80 -13.054087"
      ]
     },
     "execution_count": 14,
     "metadata": {},
     "output_type": "execute_result"
    }
   ],
   "source": [
    "pko['L_PKO'] = (pko['Otwarcie']-pko['Zamkniecie'])/pko['Otwarcie']*100\n",
    "pko['Data'] = pd.to_datetime(pko['Data'])\n",
    "pko['Data'] = pko['Data'].apply(lambda x: datetime.strftime(x,'%b-%Y'))\n",
    "pko.head()"
   ]
  },
  {
   "cell_type": "code",
   "execution_count": 15,
   "metadata": {},
   "outputs": [
    {
     "data": {
      "text/html": [
       "<div>\n",
       "<style scoped>\n",
       "    .dataframe tbody tr th:only-of-type {\n",
       "        vertical-align: middle;\n",
       "    }\n",
       "\n",
       "    .dataframe tbody tr th {\n",
       "        vertical-align: top;\n",
       "    }\n",
       "\n",
       "    .dataframe thead th {\n",
       "        text-align: right;\n",
       "    }\n",
       "</style>\n",
       "<table border=\"1\" class=\"dataframe\">\n",
       "  <thead>\n",
       "    <tr style=\"text-align: right;\">\n",
       "      <th></th>\n",
       "      <th>L_PKO</th>\n",
       "    </tr>\n",
       "  </thead>\n",
       "  <tbody>\n",
       "    <tr>\n",
       "      <th>N</th>\n",
       "      <td>60.000000</td>\n",
       "    </tr>\n",
       "    <tr>\n",
       "      <th>Średnia</th>\n",
       "      <td>0.276987</td>\n",
       "    </tr>\n",
       "    <tr>\n",
       "      <th>Mediana</th>\n",
       "      <td>0.055400</td>\n",
       "    </tr>\n",
       "    <tr>\n",
       "      <th>Wariancja</th>\n",
       "      <td>50.360016</td>\n",
       "    </tr>\n",
       "    <tr>\n",
       "      <th>Odchylenie standardowe</th>\n",
       "      <td>7.096479</td>\n",
       "    </tr>\n",
       "    <tr>\n",
       "      <th>Skośność</th>\n",
       "      <td>0.848691</td>\n",
       "    </tr>\n",
       "    <tr>\n",
       "      <th>Kurtoza</th>\n",
       "      <td>4.171924</td>\n",
       "    </tr>\n",
       "  </tbody>\n",
       "</table>\n",
       "</div>"
      ],
      "text/plain": [
       "                            L_PKO\n",
       "N                       60.000000\n",
       "Średnia                  0.276987\n",
       "Mediana                  0.055400\n",
       "Wariancja               50.360016\n",
       "Odchylenie standardowe   7.096479\n",
       "Skośność                 0.848691\n",
       "Kurtoza                  4.171924"
      ]
     },
     "execution_count": 15,
     "metadata": {},
     "output_type": "execute_result"
    }
   ],
   "source": [
    "#momenty\n",
    "moments_pko = pko.agg({'L_PKO': ['count','mean','median','var','std','skew','kurtosis']}) \n",
    "pko_momenty = moments_pko.rename(index={'count':'N','mean':'Średnia','median':'Mediana','var':'Wariancja',\n",
    "                             'std':'Odchylenie standardowe','skew':'Skośność','kurtosis':'Kurtoza'}) #zmiana nazw wierszy\n",
    "pko_momenty"
   ]
  },
  {
   "cell_type": "code",
   "execution_count": 16,
   "metadata": {},
   "outputs": [
    {
     "data": {
      "text/plain": [
       "Index(['Data', 'Otwarcie', 'Zamkniecie', 'L_PKO'], dtype='object')"
      ]
     },
     "execution_count": 16,
     "metadata": {},
     "output_type": "execute_result"
    }
   ],
   "source": [
    "pko.columns #wyświetlenie nazw kolumn"
   ]
  },
  {
   "cell_type": "code",
   "execution_count": 17,
   "metadata": {},
   "outputs": [
    {
     "data": {
      "image/png": "[encoded data removed]",
      "text/plain": [
       "<Figure size 842.4x595.44 with 1 Axes>"
      ]
     },
     "metadata": {},
     "output_type": "display_data"
    }
   ],
   "source": [
    "sns.set_style(\"white\") #styl wykresu \n",
    "\n",
    "fig, ax = plt.subplots() #sposób na proste zwiększenie wykresu\n",
    "fig.set_size_inches(11.7, 8.27) #rozmiary kartki A4\n",
    "\n",
    "k = sns.lineplot(x=\"Data\", y=\"Zamkniecie\", data=pko, label=\"PKO\", linewidth = 3, color=\"navy\") #wykres liniowy\n",
    "sns.scatterplot(x=\"Data\", y=\"Zamkniecie\", data=pko,s=50, color=\"navy\") #zaznaczone punkty notowań\n",
    "\n",
    "plt.legend(fancybox=True, shadow=True,framealpha=1, prop={'size':15}) #dodanie legendy\n",
    "\n",
    "myLocator = mticker.IndexLocator( base = 3, offset = 0) #stworzenie lokalizatora, aby ustawić oś X co drugą date\n",
    "ax.xaxis.set_major_locator(myLocator) #uporządkowanie osi X\n",
    "\n",
    "k.yaxis.grid() #stworzenie horyzontalnych lin w tle wykresu\n",
    "\n",
    "plt.xticks(rotation=45, fontsize=12, color=\"black\") #spersonalizowanie wartości na osiach X,Y\n",
    "plt.yticks(fontsize=15)\n",
    "\n",
    "plt.title(\"Notowania (na zamknięciu) PKO Bank Polski S.A. w latach 2015-2020\", fontsize=22,  fontweight='bold') #tytuł wykresu\n",
    "plt.ylabel(\"Wartość notowania (zł)\", fontsize=20, labelpad=20, fontweight='bold') #tytuł osi Y\n",
    "plt.xlabel(\"Data notowania\", labelpad=20, fontsize=20, fontweight='bold') #tytuł osi X\n",
    "\n",
    "plt.savefig('pko_notowania.jpg')\n",
    "\n",
    "plt.show() #wyświetlenie wykresu"
   ]
  },
  {
   "cell_type": "markdown",
   "metadata": {},
   "source": [
    "**Próba dopasowania rozkładu dla PKO Bank Polski**"
   ]
  },
  {
   "cell_type": "code",
   "execution_count": 32,
   "metadata": {},
   "outputs": [],
   "source": [
    "L_pko = pko['L_PKO']\n",
    "x = np.arange(len(L_pko))\n",
    "size = len(L_pko)"
   ]
  },
  {
   "cell_type": "code",
   "execution_count": 33,
   "metadata": {},
   "outputs": [
    {
     "data": {
      "text/plain": [
       "1"
      ]
     },
     "execution_count": 33,
     "metadata": {},
     "output_type": "execute_result"
    }
   ],
   "source": [
    "L_pko.shape\n",
    "L_pko.ndim"
   ]
  },
  {
   "cell_type": "code",
   "execution_count": 34,
   "metadata": {},
   "outputs": [],
   "source": [
    "sc = StandardScaler()\n",
    "reshaped_pko = L_pko.values.reshape(-1,1) #zmiana wymiaru L_alior\n",
    "sc.fit(reshaped_pko) #dopasowanie i standaryzacja danych do otrzymania średniej 0 i wariancji 1\n",
    "pko_std = sc.transform(reshaped_pko) #przerzucenie dopasowania do zbioru\n",
    "pko_std = pko_std.flatten() #powrot do 1 wymiarowego zbioru danych\n",
    "pko_std\n",
    "del reshaped_pko "
   ]
  },
  {
   "cell_type": "code",
   "execution_count": 35,
   "metadata": {
    "scrolled": true
   },
   "outputs": [
    {
     "name": "stdout",
     "output_type": "stream",
     "text": [
      "\n",
      "Rozkłady po poprawności dopasowania:\n",
      "----------------------------------------\n",
      "  Distribution  chi_square  p_value\n",
      "4         norm   16.130738  0.28184\n",
      "2        gamma   22.366394  0.14563\n",
      "5      lognorm   22.921487  0.14085\n",
      "9  weibull_max   28.830527  0.08928\n",
      "7      uniform  209.562591  0.00000\n",
      "0         burr  290.816803  0.00025\n",
      "3    genpareto  324.383866  0.00000\n",
      "1        expon  452.095651  0.00001\n",
      "6       pareto  627.208739  0.00001\n",
      "8  weibull_min  995.396357  0.00000\n"
     ]
    }
   ],
   "source": [
    "dist_names = ['burr',           #lista propozycji rozkładów\n",
    "              'expon',\n",
    "              'gamma',\n",
    "              'genpareto',\n",
    "              'norm',\n",
    "              'lognorm',\n",
    "              'pareto',\n",
    "              'uniform',\n",
    "              'weibull_min', \n",
    "              'weibull_max']\n",
    "\n",
    "#utworzenie pustych list do przechowywania wyników testu\n",
    "chi_square = []\n",
    "p_values = []\n",
    "\n",
    "#utworzenie 50 kolumn dla testu chi-kwadrat\n",
    "#dane beda równomiernie rozłożone na wszystkich kolumnach\n",
    "#percentyl = 1/100 kwantyl\n",
    "percentile_bins = np.linspace(0,100,51) #zwraca równomiernie rozłożone próbki \n",
    "percentile_cutoffs = np.percentile(pko_std, percentile_bins) #zwraca kolejne percentyle\n",
    "observed_frequency, bins = (np.histogram(pko_std, bins=percentile_cutoffs))\n",
    "cum_observed_frequency = np.cumsum(observed_frequency)\n",
    "\n",
    "#petla dla dla kazdego kandydata\n",
    "for distribution in dist_names:\n",
    "    #ustawienie rozkładu i otrzymanie dopasowanych parametrów rozkładu\n",
    "    dist = getattr(scipy.stats, distribution)\n",
    "    param = dist.fit(pko_std) #dopasowanie otrzymanych atrybutów do zbioru\n",
    "    \n",
    "    #otrzymanie 'p-value' dla testy Kolmogorov-Smirnoff, zaokraglenie do 5 miejsc\n",
    "    p = scipy.stats.kstest(pko_std, distribution, args=param)[1]\n",
    "    p = np.around(p,5)\n",
    "    p_values.append(p)\n",
    "    \n",
    "    #otrzymanie spodziewanej liczby w kolumnach percentyli\n",
    "    #oparte na dystrybuancie ('cumulative distribution function - cdf')\n",
    "    cdf_fitted = dist.cdf(percentile_cutoffs, *param[:-2], loc=param[-2], scale=param[-1])\n",
    "    expected_frequency = []\n",
    "    for bin in range(len(percentile_bins)-1):\n",
    "        expected_cdf_area = cdf_fitted[bin+1] - cdf_fitted[bin]\n",
    "        expected_frequency.append(expected_cdf_area)\n",
    "    \n",
    "    #obliczenie testu chi-kwadrat\n",
    "    expected_frequency = np.array(expected_frequency) * size\n",
    "    cum_expected_frequency = np.cumsum(expected_frequency)\n",
    "    ss = sum(((cum_expected_frequency - cum_observed_frequency)**2) / cum_observed_frequency)\n",
    "    chi_square.append(ss)\n",
    "    \n",
    "#Ulokowanie wyników i posortowanie po poprawności dopasowania (najlepsze z góry)\n",
    "results = pd.DataFrame()\n",
    "results['Distribution'] = dist_names\n",
    "results['chi_square'] = chi_square\n",
    "results['p_value'] = p_values\n",
    "results.sort_values(['chi_square'], inplace=True)\n",
    "\n",
    "#Wyświetlenie wyników\n",
    "print ('\\nRozkłady po poprawności dopasowania:')\n",
    "print ('----------------------------------------')\n",
    "print (results)\n",
    "    \n",
    "    \n"
   ]
  },
  {
   "cell_type": "markdown",
   "metadata": {},
   "source": [
    "Najlepsze dopasowanie otrzymaliśmy dla rozkładu Normalnego, Gamma i Lognormal.\n",
    "Wizualizujemy te rozkłady i zwrócimy parametry. \n",
    "Tym razem będziemy przeprowadzali dopasowanie do oryginalnych danych (nie zestandaryzowanych)"
   ]
  },
  {
   "cell_type": "code",
   "execution_count": 36,
   "metadata": {},
   "outputs": [
    {
     "data": {
      "image/png": "[encoded data removed]",
      "text/plain": [
       "<Figure size 432x288 with 1 Axes>"
      ]
     },
     "metadata": {
      "needs_background": "light"
     },
     "output_type": "display_data"
    },
    {
     "name": "stdout",
     "output_type": "stream",
     "text": [
      "\n",
      "Parametry rozkładów:\n",
      "------------------------\n",
      "\n",
      "Rozkład: norm\n",
      "Parametry: (0.27698740541491357, 7.037093351567346)\n",
      "\n",
      "Rozkład: gamma\n",
      "Parametry: (31.790364015403288, -38.95800332484389, 1.2341786963971404)\n",
      "\n",
      "Rozkład: lognorm\n",
      "Parametry: (0.12628406087640145, -54.573366843374274, 54.412748968758976)\n"
     ]
    }
   ],
   "source": [
    "#dzielimy obserwacje na 100 kolumn dla wizualizacji\n",
    "number_of_bins = 100\n",
    "bin_cutoffs = np.linspace(np.percentile(L_pko, 0), np.percentile(L_pko, 99), number_of_bins)\n",
    "\n",
    "#tworzymy wykres\n",
    "h = plt.hist(L_alior, bins=bin_cutoffs, color='0.75')\n",
    "\n",
    "#wybierzmy 3 najlepsze rozkłady\n",
    "number_distributions_to_plot = 3\n",
    "dist_names = results['Distribution'].iloc[0:number_distributions_to_plot]\n",
    "\n",
    "#tworzenie pustej listy do zwrócenia parametrów dopasowanych rozkładów\n",
    "parameters = []\n",
    "\n",
    "#petla po rozkładach aby otrzymać parametry i dopasować linie\n",
    "for dist_name in dist_names:\n",
    "    #wybierzemy rozkład i przechowamy parametry rozkładu\n",
    "    dist = getattr(scipy.stats,dist_name)\n",
    "    param = dist.fit(L_pko)\n",
    "    parameters.append(param)\n",
    "    \n",
    "    #narysowanie linii każdego rozkładu i przeskalowanie, aby dopasować do danych\n",
    "    pdf_fitted = dist.pdf(x, *param[:-2], loc=param[-2], scale=param[-1])\n",
    "    scale_pdf = np.trapz(h[0],h[1][:-1])/np.trapz(pdf_fitted,x)\n",
    "    pdf_fitted *= scale_pdf\n",
    "    \n",
    "    #dodanie linii to wykresu\n",
    "    plt.plot(pdf_fitted, label=dist_name)\n",
    "    \n",
    "    #ustawienie osi X aby zawierała 99% danych\n",
    "    #to nie jest obowiązkowe, ale czasami jakiś 'outlier' powoduje wykres mniej czytelnym\n",
    "    plt.xlim(0,np.percentile(L_pko,99))\n",
    "    \n",
    "#Dodanie legendy i wyświetlenie wykresu\n",
    "plt.legend()\n",
    "plt.show()\n",
    "\n",
    "#Przechowanie parametrów rozkładu w dataframe\n",
    "dist_parameters = pd.DataFrame()\n",
    "dist_parameters['Distribution'] = (\n",
    "        results['Distribution'].iloc[0:number_distributions_to_plot])\n",
    "dist_parameters['Distribution parameters'] = parameters\n",
    "\n",
    "#Wyświetlenie wyników parametrów\n",
    "print ('\\nParametry rozkładów:')\n",
    "print ('------------------------')\n",
    "\n",
    "for index, row in dist_parameters.iterrows():\n",
    "    print ('\\nRozkład:', row[0])\n",
    "    print ('Parametry:', row[1] )"
   ]
  }
 ],
 "metadata": {
  "kernelspec": {
   "display_name": "Python 3",
   "language": "python",
   "name": "python3"
  },
  "language_info": {
   "codemirror_mode": {
    "name": "ipython",
    "version": 3
   },
   "file_extension": ".py",
   "mimetype": "text/x-python",
   "name": "python",
   "nbconvert_exporter": "python",
   "pygments_lexer": "ipython3",
   "version": "3.8.3"
  }
 },
 "nbformat": 4,
 "nbformat_minor": 4
}
